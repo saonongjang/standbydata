{
 "cells": [
  {
   "cell_type": "code",
   "execution_count": 3,
   "id": "3a1e6a17",
   "metadata": {},
   "outputs": [
    {
     "name": "stdout",
     "output_type": "stream",
     "text": [
      "True\n",
      "False\n"
     ]
    }
   ],
   "source": [
    "### len과 set을 이용한 동일한 숫자 찾아내기\n",
    "\n",
    "\n",
    "def test_distinct(data):\n",
    "    if len(data) ==len(set(data)):\n",
    "        return True\n",
    "    else :\n",
    "        return False ;\n",
    "    \n",
    "print(test_distinct([1,5,7,9]))\n",
    "print(test_distinct([1,5,5,7,9]))\n"
   ]
  },
  {
   "cell_type": "code",
   "execution_count": null,
   "id": "fbf09bf6",
   "metadata": {},
   "outputs": [],
   "source": []
  },
  {
   "cell_type": "code",
   "execution_count": null,
   "id": "99ad8c55",
   "metadata": {},
   "outputs": [],
   "source": []
  }
 ],
 "metadata": {
  "kernelspec": {
   "display_name": "Python 3 (ipykernel)",
   "language": "python",
   "name": "python3"
  },
  "language_info": {
   "codemirror_mode": {
    "name": "ipython",
    "version": 3
   },
   "file_extension": ".py",
   "mimetype": "text/x-python",
   "name": "python",
   "nbconvert_exporter": "python",
   "pygments_lexer": "ipython3",
   "version": "3.9.7"
  }
 },
 "nbformat": 4,
 "nbformat_minor": 5
}
